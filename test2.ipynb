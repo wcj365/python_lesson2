{
 "cells": [
  {
   "cell_type": "markdown",
   "metadata": {},
   "source": [
    "# Practice 1\n",
    "## Math Quizzes -Addition\n",
    "Write a program that  generates 10 random quizzes on addition of two numbers between 0 and 100.\n",
    "\n",
    "- Display quiz like 2 + 5 = ? and check the user input\n",
    "    - If non integer is entered, prompt for re-entry\n",
    "    - If answer is wrong, allow the user to try 2 more times\n",
    "    - if answer is correct, move on to a new quiz\n",
    "- At the end of the 10 quizzes, print a summary report \n",
    "    - Display quizzes along with correct answers: 2 + 5 = 7\n",
    "    - Display user answer only it is wrong: 2 + 5 = 7 (you answered: 8)\n",
    "    - Display the number of correct answers: You fared 7 out of 10\n"
   ]
  },
  {
   "cell_type": "code",
   "execution_count": 2,
   "metadata": {},
   "outputs": [],
   "source": [
    "# Random is a standard Python module.\n",
    "\n",
    "import random "
   ]
  },
  {
   "cell_type": "code",
   "execution_count": 3,
   "metadata": {},
   "outputs": [
    {
     "name": "stdout",
     "output_type": "stream",
     "text": [
      "17\n"
     ]
    }
   ],
   "source": [
    "# Try out the randint function of the random module\n",
    "# Run this cell several times to see the random numbers\n",
    "\n",
    "x = random.randint(0,100)\n",
    "\n",
    "print(x)"
   ]
  },
  {
   "cell_type": "markdown",
   "metadata": {},
   "source": [
    "# Jupyter tip: \n",
    "To perform block indentation: \n",
    "1. hightlight the block of code (multiple lines) first\n",
    "2. hold down CTRL and ] to indent \n",
    "3. hold down CTRL and [ to un-indent"
   ]
  },
  {
   "cell_type": "code",
   "execution_count": 8,
   "metadata": {},
   "outputs": [
    {
     "name": "stdout",
     "output_type": "stream",
     "text": [
      "\n",
      " 16 + 0 = ?\n"
     ]
    },
    {
     "name": "stdin",
     "output_type": "stream",
     "text": [
      "\n",
      "Enter your answer: 1\n"
     ]
    },
    {
     "name": "stdout",
     "output_type": "stream",
     "text": [
      "Wrong answer. Try again. \n"
     ]
    },
    {
     "name": "stdin",
     "output_type": "stream",
     "text": [
      "\n",
      "Enter your answer: 1\n"
     ]
    },
    {
     "name": "stdout",
     "output_type": "stream",
     "text": [
      "Wrong answer. Next quiz.\n",
      "\n",
      " 65 + 40 = ?\n"
     ]
    },
    {
     "name": "stdin",
     "output_type": "stream",
     "text": [
      "\n",
      "Enter your answer: t\n"
     ]
    },
    {
     "name": "stdout",
     "output_type": "stream",
     "text": [
      "please enter only digits. try again.\n"
     ]
    },
    {
     "name": "stdin",
     "output_type": "stream",
     "text": [
      "\n",
      "Enter your answer: t\n"
     ]
    },
    {
     "name": "stdout",
     "output_type": "stream",
     "text": [
      "please enter only digits. try again.\n"
     ]
    },
    {
     "name": "stdin",
     "output_type": "stream",
     "text": [
      "\n",
      "Enter your answer: 3\n"
     ]
    },
    {
     "name": "stdout",
     "output_type": "stream",
     "text": [
      "Wrong answer. Try again. \n"
     ]
    },
    {
     "name": "stdin",
     "output_type": "stream",
     "text": [
      "\n",
      "Enter your answer: 1\n"
     ]
    },
    {
     "name": "stdout",
     "output_type": "stream",
     "text": [
      "Wrong answer. Next quiz.\n"
     ]
    }
   ],
   "source": [
    "# Start with 2 quizese for easy exploration/debuging.\n",
    "# Change it to 10 for deployment\n",
    "\n",
    "for i in range(2):\n",
    "    \n",
    "    x = random.randint(0,100)\n",
    "    y = random.randint(0,100)\n",
    "    \n",
    "  \n",
    "    print(\"\\n\", x, \"+\", y, \"= ?\")\n",
    "    \n",
    "    trial_cnt = 0\n",
    "    \n",
    "    while True:\n",
    "\n",
    "        try:\n",
    "            \n",
    "            input_string = input(\"\\nEnter your answer:\")\n",
    "       \n",
    "            if int(input_string) == x + y:\n",
    "                print(\"Good job!\")\n",
    "                break\n",
    "            else:   \n",
    "                trial_cnt += 1\n",
    "                if trial_cnt == 2:\n",
    "                    print(\"Wrong answer. Next quiz.\")\n",
    "                    break  \n",
    "                else:\n",
    "                    print(\"Wrong answer. Try again. \")   \n",
    "                    \n",
    "        except:\n",
    "            print(\"please enter only digits. try again.\")\n",
    "\n",
    "\n"
   ]
  },
  {
   "cell_type": "code",
   "execution_count": null,
   "metadata": {},
   "outputs": [],
   "source": []
  }
 ],
 "metadata": {
  "kernelspec": {
   "display_name": "Python 3",
   "language": "python",
   "name": "python3"
  },
  "language_info": {
   "codemirror_mode": {
    "name": "ipython",
    "version": 3
   },
   "file_extension": ".py",
   "mimetype": "text/x-python",
   "name": "python",
   "nbconvert_exporter": "python",
   "pygments_lexer": "ipython3",
   "version": "3.8.1"
  }
 },
 "nbformat": 4,
 "nbformat_minor": 4
}
